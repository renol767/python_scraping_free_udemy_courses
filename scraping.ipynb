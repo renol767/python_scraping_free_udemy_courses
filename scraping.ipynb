{
 "cells": [
  {
   "cell_type": "code",
   "execution_count": 5,
   "id": "439b7a25",
   "metadata": {},
   "outputs": [],
   "source": [
    "import time\n",
    "import pandas as pd # pip install pandas\n",
    "# pip install selenium\n",
    "from selenium import webdriver\n",
    "from selenium.webdriver.support.ui import WebDriverWait\n",
    "from selenium.webdriver.support import expected_conditions as EC\n",
    "from selenium.webdriver.common.by import By\n",
    "from selenium.common.exceptions import TimeoutException\n",
    "from bs4 import BeautifulSoup # pip install beautifulsoup4"
   ]
  },
  {
   "cell_type": "code",
   "execution_count": 6,
   "id": "4d946ddf",
   "metadata": {},
   "outputs": [
    {
     "name": "stdout",
     "output_type": "stream",
     "text": [
      "15 Jul 2021 \n"
     ]
    }
   ],
   "source": [
    "sort_by_type = 'newest'\n",
    "\n",
    "firefox_driver_path = 'geckodriver.exe'\n",
    "delay = 15\n",
    "\n",
    "driver = webdriver.Firefox(executable_path=firefox_driver_path)\n",
    "\n",
    "def extract_text(soup_obj, tag, attribute_name, attribute_value):\n",
    "    txt = soup_obj.find(tag, {attribute_name: attribute_value}).text.strip() if soup_obj.find(tag, {attribute_name: attribute_value}) else ''\n",
    "    return txt\n",
    "\n",
    "rows = []\n",
    "\n",
    "from datetime import datetime\n",
    "datetime.fromisoformat('2011-11-04')\n",
    "tgl = datetime.today().strftime(\"%d %b %Y \")\n",
    "print(tgl)\n",
    "\n",
    "for page_number in range(1, 11):\n",
    "    page_url = f'https://www.udemy.com/courses/free/?lang=en&p={page_number}&sort=newest'\n",
    "    driver.get(page_url)\n",
    "    time.sleep(5)\n",
    "\n",
    "    try:\n",
    "        WebDriverWait(driver, delay).until(EC.presence_of_element_located((By.CLASS_NAME, 'course-list--container--3zXPS')))\n",
    "    except TimeoutException:\n",
    "        print('Loading exceeds delay time')\n",
    "        break\n",
    "    else:\n",
    "        soup = BeautifulSoup(driver.page_source, 'html.parser')\n",
    "        course_list = soup.find('div', {'class': 'course-list--container--3zXPS'})\n",
    "        courses = course_list.find_all('a', {'class': 'udlite-custom-focus-visible browse-course-card--link--3KIkQ'})\n",
    "        \n",
    "        for course in courses:          \n",
    "            course_url = '{0}{1}'.format('https://www.udemy.com', course['href'])\n",
    "            course_title = course.select('div[class*=\"course-card--course-title\"]')[0].text         \n",
    "            course_headline = extract_text(course, 'p', 'data-purpose', 'safely-set-inner-html:course-card:course-headline')            \n",
    "            author = extract_text(course, 'div', 'data-purpose', 'safely-set-inner-html:course-card:visible-instructors')\n",
    "            course_rating = extract_text(course, 'span', 'data-purpose', 'rating-number')\n",
    "            number_of_ratings = extract_text(course, 'span', 'class', 'udlite-text-xs course-card--reviews-text--12UpL')[1:-1]\n",
    "            course_detail = course.find_all('span', {'class':'course-card--row--1OMjg'})\n",
    "            course_length = course_detail[0].text\n",
    "            number_of_lectures = course_detail[1].text\n",
    "            difficulity = course_detail[2].text\n",
    "\n",
    "            rows.append(\n",
    "                [course_url, course_title, course_headline, author, course_rating, number_of_ratings, course_length, number_of_lectures, difficulity]               \n",
    "            )\n",
    "\n",
    "columns = ['url', 'Course Title', 'Course Headline', 'Instructor', 'Rating', 'Number of Ratings', 'Course Length', 'Number of Lectures', 'Difficulity']\n",
    "df = pd.DataFrame(data=rows, columns=columns)\n",
    "df.to_excel(tgl + 'Udemy Free Courses.xlsx', index=True)\n",
    "driver.quit()"
   ]
  }
 ],
 "metadata": {
  "kernelspec": {
   "display_name": "Python 3",
   "language": "python",
   "name": "python3"
  },
  "language_info": {
   "codemirror_mode": {
    "name": "ipython",
    "version": 3
   },
   "file_extension": ".py",
   "mimetype": "text/x-python",
   "name": "python",
   "nbconvert_exporter": "python",
   "pygments_lexer": "ipython3",
   "version": "3.9.1"
  }
 },
 "nbformat": 4,
 "nbformat_minor": 5
}
